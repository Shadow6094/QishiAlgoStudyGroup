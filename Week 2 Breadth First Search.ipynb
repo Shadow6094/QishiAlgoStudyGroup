{
 "cells": [
  {
   "cell_type": "markdown",
   "metadata": {},
   "source": [
    "Week 2: Breadth First Search"
   ]
  },
  {
   "cell_type": "code",
   "execution_count": 1,
   "metadata": {},
   "outputs": [],
   "source": [
    "# Definition for a binary tree node.\n",
    "class TreeNode(object):\n",
    "    def __init__(self, x):\n",
    "        self.val = x\n",
    "        self.left = None\n",
    "        self.right = None"
   ]
  },
  {
   "cell_type": "code",
   "execution_count": 4,
   "metadata": {},
   "outputs": [
    {
     "ename": "SyntaxError",
     "evalue": "unexpected EOF while parsing (<ipython-input-4-4bf30328a2b8>, line 10)",
     "output_type": "error",
     "traceback": [
      "\u001b[0;36m  File \u001b[0;32m\"<ipython-input-4-4bf30328a2b8>\"\u001b[0;36m, line \u001b[0;32m10\u001b[0m\n\u001b[0;31m    \u001b[0m\n\u001b[0m    ^\u001b[0m\n\u001b[0;31mSyntaxError\u001b[0m\u001b[0;31m:\u001b[0m unexpected EOF while parsing\n"
     ]
    }
   ],
   "source": [
    "def levelOrder(root):\n",
    "    \"\"\"\n",
    "    :type root: TreeNode\n",
    "    :rtype: List[List[int]]\n",
    "    \"\"\"\n",
    "    res = []\n",
    "    tmp_queue = []\n",
    "    if not root: return res\n",
    "    tmp_queue.append(root)\n",
    "    while len(tmp_queue)>0:\n",
    "        \n",
    "        \n",
    "    "
   ]
  },
  {
   "cell_type": "code",
   "execution_count": 10,
   "metadata": {},
   "outputs": [
    {
     "data": {
      "text/plain": [
       "1"
      ]
     },
     "execution_count": 10,
     "metadata": {},
     "output_type": "execute_result"
    }
   ],
   "source": [
    "test = [1]\n",
    "test.pop()"
   ]
  },
  {
   "cell_type": "code",
   "execution_count": 5,
   "metadata": {},
   "outputs": [],
   "source": [
    "from collections import defaultdict \n",
    "  \n",
    "#Class to represent a graph \n",
    "class Graph: \n",
    "    def __init__(self,vertices): \n",
    "        self.graph = defaultdict(list) #dictionary containing adjacency List \n",
    "        self.V = vertices #No. of vertices \n",
    "  \n",
    "    # function to add an edge to graph \n",
    "    def addEdge(self,u,v): \n",
    "        self.graph[u].append(v) \n",
    "    \n",
    "    # The function to do Topological Sort.  \n",
    "    def topologicalSort(self):\n",
    "        # Create a vector to store indegrees of all \n",
    "        # vertices. Initialize all indegrees as 0. \n",
    "        in_degree = [0]*(self.V) \n",
    "          \n",
    "        # Traverse adjacency lists to fill indegrees of \n",
    "        # vertices.  This step takes O(V+E) time\n",
    "        for i in self.graph:\n",
    "            for j in self.graph[i]: \n",
    "                in_degree[j] += 1\n",
    "                \n",
    "        # Create an queue and enqueue all vertices with \n",
    "        # indegree 0 \n",
    "        queue = [] \n",
    "        for i in range(self.V): \n",
    "            if in_degree[i] == 0: \n",
    "                queue.append(i)\n",
    "                \n",
    "        #Initialize count of visited vertices \n",
    "        cnt = 0\n",
    "  \n",
    "        # Create a vector to store result (A topological \n",
    "        # ordering of the vertices) \n",
    "        top_order = [] \n",
    "  \n",
    "        # One by one dequeue vertices from queue and enqueue \n",
    "        # adjacents if indegree of adjacent becomes 0 \n",
    "        while queue:\n",
    "            # Extract front of queue (or perform dequeue) \n",
    "            # and add it to topological order \n",
    "            u = queue.pop(0) \n",
    "            top_order.append(u)\n",
    "            \n",
    "            # Iterate through all neighbouring nodes \n",
    "            # of dequeued node u and decrease their in-degree \n",
    "            # by 1 \n",
    "            for i in self.graph[u]: \n",
    "                in_degree[i] -= 1\n",
    "                # If in-degree becomes zero, add it to queue \n",
    "                if in_degree[i] == 0: \n",
    "                    queue.append(i)   \n",
    "            cnt += 1\n",
    "            \n",
    "        # Check if there was a cycle \n",
    "        if cnt != self.V: \n",
    "            print(\"There exists a cycle in the graph\")\n",
    "        else : \n",
    "            #Print topological order \n",
    "            print(top_order)"
   ]
  },
  {
   "cell_type": "code",
   "execution_count": 6,
   "metadata": {},
   "outputs": [
    {
     "name": "stdout",
     "output_type": "stream",
     "text": [
      "[4, 5, 2, 0, 3, 1]\n"
     ]
    }
   ],
   "source": [
    "g= Graph(6) \n",
    "g.addEdge(5, 2); \n",
    "g.addEdge(5, 0); \n",
    "g.addEdge(4, 0); \n",
    "g.addEdge(4, 1); \n",
    "g.addEdge(2, 3); \n",
    "g.addEdge(3, 1);\n",
    "g.topologicalSort()"
   ]
  },
  {
   "cell_type": "code",
   "execution_count": null,
   "metadata": {},
   "outputs": [],
   "source": []
  }
 ],
 "metadata": {
  "kernelspec": {
   "display_name": "Python 3",
   "language": "python",
   "name": "python3"
  },
  "language_info": {
   "codemirror_mode": {
    "name": "ipython",
    "version": 3
   },
   "file_extension": ".py",
   "mimetype": "text/x-python",
   "name": "python",
   "nbconvert_exporter": "python",
   "pygments_lexer": "ipython3",
   "version": "3.6.6"
  }
 },
 "nbformat": 4,
 "nbformat_minor": 2
}
