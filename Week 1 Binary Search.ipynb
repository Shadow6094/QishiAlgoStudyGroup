{
 "cells": [
  {
   "cell_type": "markdown",
   "metadata": {},
   "source": [
    "# 讲义Code"
   ]
  },
  {
   "cell_type": "code",
   "execution_count": 5,
   "metadata": {},
   "outputs": [],
   "source": [
    "def my_upper_bound(nums, target):\n",
    "    l = 0\n",
    "    r = len(nums)\n",
    "    \n",
    "    while l<r:\n",
    "        m = (r-l)//2 + l\n",
    "        if nums[m]<=target:\n",
    "            l=m+1\n",
    "        else:\n",
    "            r=m\n",
    "    return l"
   ]
  },
  {
   "cell_type": "code",
   "execution_count": 7,
   "metadata": {},
   "outputs": [
    {
     "data": {
      "text/plain": [
       "3"
      ]
     },
     "execution_count": 7,
     "metadata": {},
     "output_type": "execute_result"
    }
   ],
   "source": [
    "my_upper_bound([1, 3, 3, 5, 6, 7], 3)"
   ]
  },
  {
   "cell_type": "code",
   "execution_count": 8,
   "metadata": {},
   "outputs": [],
   "source": [
    "def my_lower_bound(nums, target):\n",
    "    l = 0\n",
    "    r = len(nums)\n",
    "    \n",
    "    while l<r:\n",
    "        m = (r-l)//2 + l\n",
    "        if nums[m]<target:\n",
    "            l=m+1\n",
    "        else:\n",
    "            r=m\n",
    "    return l"
   ]
  },
  {
   "cell_type": "code",
   "execution_count": 9,
   "metadata": {},
   "outputs": [
    {
     "data": {
      "text/plain": [
       "1"
      ]
     },
     "execution_count": 9,
     "metadata": {},
     "output_type": "execute_result"
    }
   ],
   "source": [
    "my_lower_bound([1, 3, 3, 5, 6, 7], 3)"
   ]
  },
  {
   "cell_type": "code",
   "execution_count": 19,
   "metadata": {},
   "outputs": [],
   "source": [
    "def is_bad_version(x):\n",
    "    if x>=4:\n",
    "        return True\n",
    "    else:\n",
    "        return False"
   ]
  },
  {
   "cell_type": "code",
   "execution_count": 20,
   "metadata": {},
   "outputs": [],
   "source": [
    "def find_first_bad_version(n):\n",
    "    l = 0\n",
    "    r = n\n",
    "    \n",
    "    while l<r:\n",
    "        m = (r-l)//2+l\n",
    "        if not is_bad_version(m):\n",
    "            l = m+1\n",
    "        else:\n",
    "            r=m\n",
    "    return l"
   ]
  },
  {
   "cell_type": "code",
   "execution_count": 21,
   "metadata": {},
   "outputs": [
    {
     "data": {
      "text/plain": [
       "4"
      ]
     },
     "execution_count": 21,
     "metadata": {},
     "output_type": "execute_result"
    }
   ],
   "source": [
    "find_first_bad_version(100)"
   ]
  },
  {
   "cell_type": "code",
   "execution_count": 30,
   "metadata": {},
   "outputs": [],
   "source": [
    "def search_insert_pos(nums, target):\n",
    "    if not nums or nums is None:\n",
    "        return -1\n",
    "    else:\n",
    "        l = 0\n",
    "        r = len(nums)\n",
    "        \n",
    "        while l<r:\n",
    "            m = (r-l)//2+l\n",
    "            if nums[m]==target:\n",
    "                return m\n",
    "            elif nums[m]<target:\n",
    "                l = m+1\n",
    "            else:\n",
    "                r = m\n",
    "        return l"
   ]
  },
  {
   "cell_type": "code",
   "execution_count": 35,
   "metadata": {},
   "outputs": [
    {
     "name": "stdout",
     "output_type": "stream",
     "text": [
      "2\n",
      "1\n",
      "4\n",
      "0\n",
      "-1\n"
     ]
    }
   ],
   "source": [
    "print(search_insert_pos([1,3,5,6], 5))\n",
    "print(search_insert_pos([1,3,5,6], 2))\n",
    "print(search_insert_pos([1,3,5,6], 7))\n",
    "print(search_insert_pos([1,3,5,6], 0))\n",
    "print(search_insert_pos(None, 0))"
   ]
  },
  {
   "cell_type": "code",
   "execution_count": 36,
   "metadata": {},
   "outputs": [],
   "source": [
    "def int_sqrt(x):\n",
    "    if x < 0 or x is None:\n",
    "        return -1\n",
    "    else:\n",
    "        l = 0\n",
    "        r = x\n",
    "        while l<r:\n",
    "            m = (r-l)//2+l\n",
    "            if m*m==x:\n",
    "                return m\n",
    "            elif m*m<x:\n",
    "                l = m+1\n",
    "            else:\n",
    "                r = m\n",
    "        return l-1"
   ]
  },
  {
   "cell_type": "code",
   "execution_count": 43,
   "metadata": {},
   "outputs": [
    {
     "data": {
      "text/plain": [
       "11"
      ]
     },
     "execution_count": 43,
     "metadata": {},
     "output_type": "execute_result"
    }
   ],
   "source": [
    "int_sqrt(122)"
   ]
  },
  {
   "cell_type": "code",
   "execution_count": 44,
   "metadata": {},
   "outputs": [],
   "source": [
    "def find_duplicate_num_v1(nums):\n",
    "    nums.sort()\n",
    "    for i in range(1,len(nums)):\n",
    "        if nums[i] == nums[i-1]:\n",
    "            return i"
   ]
  },
  {
   "cell_type": "code",
   "execution_count": 45,
   "metadata": {},
   "outputs": [],
   "source": [
    "def find_duplicate_num_v2(nums):\n",
    "    tmp = set()\n",
    "    for n in nums:\n",
    "        if num in tmp:\n",
    "            return num\n",
    "        else:\n",
    "            tmp.add(num)"
   ]
  },
  {
   "cell_type": "code",
   "execution_count": 46,
   "metadata": {},
   "outputs": [
    {
     "ename": "SyntaxError",
     "evalue": "unexpected EOF while parsing (<ipython-input-46-bae297a802a7>, line 1)",
     "output_type": "error",
     "traceback": [
      "\u001b[0;36m  File \u001b[0;32m\"<ipython-input-46-bae297a802a7>\"\u001b[0;36m, line \u001b[0;32m1\u001b[0m\n\u001b[0;31m    def find_duplicate_num_v3(nums):\u001b[0m\n\u001b[0m                                    ^\u001b[0m\n\u001b[0;31mSyntaxError\u001b[0m\u001b[0;31m:\u001b[0m unexpected EOF while parsing\n"
     ]
    }
   ],
   "source": [
    "def find_duplicate_num_v3(nums):"
   ]
  },
  {
   "cell_type": "code",
   "execution_count": 52,
   "metadata": {},
   "outputs": [],
   "source": [
    "def find_kth_smallest_element(mat_nums,k):\n",
    "    n = len(mat_nums)\n",
    "    l = mat_nums[0][0]\n",
    "    r = mat_nums[n-1][n-1]\n",
    "    def my_upper_bound(nums, target):\n",
    "        l = 0;\n",
    "        r = len(nums)\n",
    "        while l < r:\n",
    "            m = (r - l) // 2 + l\n",
    "            if nums[m] <= target:\n",
    "                l = m + 1\n",
    "            else:\n",
    "                r = m\n",
    "        return l;\n",
    "    while l<r:\n",
    "        m = (r - l) // 2 + l\n",
    "        counter = 0\n",
    "        for i in range(n):\n",
    "            counter+=my_upper_bound(mat_nums[i], m)\n",
    "        if counter<k:\n",
    "            l = m + 1\n",
    "        else:\n",
    "            r=m\n",
    "    return l"
   ]
  },
  {
   "cell_type": "code",
   "execution_count": 59,
   "metadata": {},
   "outputs": [
    {
     "data": {
      "text/plain": [
       "15"
      ]
     },
     "execution_count": 59,
     "metadata": {},
     "output_type": "execute_result"
    }
   ],
   "source": [
    "matrix = [\n",
    "   [ 1,  5,  9],\n",
    "   [10, 11, 13],\n",
    "   [12, 13, 15]\n",
    "]\n",
    "k = 9\n",
    "find_kth_smallest_element(matrix, k)"
   ]
  },
  {
   "cell_type": "code",
   "execution_count": null,
   "metadata": {},
   "outputs": [],
   "source": []
  }
 ],
 "metadata": {
  "kernelspec": {
   "display_name": "Python 3",
   "language": "python",
   "name": "python3"
  },
  "language_info": {
   "codemirror_mode": {
    "name": "ipython",
    "version": 3
   },
   "file_extension": ".py",
   "mimetype": "text/x-python",
   "name": "python",
   "nbconvert_exporter": "python",
   "pygments_lexer": "ipython3",
   "version": "3.6.6"
  }
 },
 "nbformat": 4,
 "nbformat_minor": 2
}
