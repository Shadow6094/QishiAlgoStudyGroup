{
 "cells": [
  {
   "cell_type": "markdown",
   "metadata": {},
   "source": [
    "### Dynamic Programming Notes"
   ]
  },
  {
   "cell_type": "markdown",
   "metadata": {},
   "source": [
    "Dynamic Programming is mainly an optimization over plain recursion. Wherever we see a recursive solution that has repeated calls for same inputs, we can optimize it using Dynamic Programming. The idea is to simply store the results of subproblems, so that we do not have to re-comupute them when needed later. This simple optimization reduces time complexities from exponential to polynomial."
   ]
  },
  {
   "cell_type": "markdown",
   "metadata": {},
   "source": [
    "For example, if we write simple recursive solution for Fibonacci Numbers, we get exponential time complexity and if we optimize it by storing solutions of subproblems, time complexity reduces to linear."
   ]
  },
  {
   "cell_type": "code",
   "execution_count": 2,
   "metadata": {},
   "outputs": [],
   "source": [
    "import functools\n",
    "import time"
   ]
  },
  {
   "cell_type": "code",
   "execution_count": 41,
   "metadata": {},
   "outputs": [],
   "source": [
    "def timer(func):\n",
    "    \"\"\"Print the runtime of the decorated function\"\"\"\n",
    "    @functools.wraps(func)\n",
    "    def wrapper_timer(*args,**kwargs):\n",
    "        start_time = time.perf_counter()    # 1\n",
    "        value = func(*args, **kwargs)\n",
    "        end_time = time.perf_counter()      # 2\n",
    "        run_time = end_time - start_time    # 3\n",
    "        print(f\"Finished {func.__name__!r} in {run_time:.4f} secs\")\n",
    "        return value\n",
    "    return wrapper_timer"
   ]
  },
  {
   "cell_type": "code",
   "execution_count": 7,
   "metadata": {},
   "outputs": [],
   "source": [
    "def count_calls(func):\n",
    "    @functools.wraps(func)\n",
    "    def wrapper_count_calls(*args,**kwargs):\n",
    "        wrapper_count_calls.num_calls += 1\n",
    "        print(f\"Call {wrapper_count_calls.num_calls} of {func.__name__!r}\")\n",
    "        return func(*args, **kwargs)\n",
    "    wrapper_count_calls.num_calls = 0\n",
    "    return wrapper_count_calls"
   ]
  },
  {
   "cell_type": "code",
   "execution_count": 6,
   "metadata": {},
   "outputs": [],
   "source": [
    "def cache(func):\n",
    "    \"\"\"Keep a cache of previous function calls\"\"\"\n",
    "    @functools.wraps(func)\n",
    "    def wrapper_cache(*args, **kwargs):\n",
    "        cache_key = args + tuple(kwargs.items())\n",
    "        if cache_key not in wrapper_cache.cache:\n",
    "            wrapper_cache.cache[cache_key] = func(*args, **kwargs)\n",
    "        return wrapper_cache.cache[cache_key]\n",
    "    wrapper_cache.cache = dict()\n",
    "    return wrapper_cache"
   ]
  },
  {
   "cell_type": "code",
   "execution_count": 34,
   "metadata": {},
   "outputs": [
    {
     "name": "stdout",
     "output_type": "stream",
     "text": [
      "Total Runtime is: 4.691171081998618 sec.\n"
     ]
    }
   ],
   "source": [
    "def fibonacci(num):\n",
    "    if num < 2:\n",
    "        return num\n",
    "    return fibonacci(num - 1) + fibonacci(num - 2)\n",
    "start_time = time.perf_counter()\n",
    "fibonacci(35)\n",
    "end_time = time.perf_counter()\n",
    "run_time = end_time - start_time\n",
    "print('Total Runtime is: {} sec.'.format(str(run_time)))"
   ]
  },
  {
   "cell_type": "code",
   "execution_count": 35,
   "metadata": {},
   "outputs": [
    {
     "name": "stdout",
     "output_type": "stream",
     "text": [
      "Total Runtime is: 0.00023535999935120344 sec.\n"
     ]
    }
   ],
   "source": [
    "@cache\n",
    "def fibonacci(num):\n",
    "    if num < 2:\n",
    "        return num\n",
    "    return fibonacci(num - 1) + fibonacci(num - 2)\n",
    "start_time = time.perf_counter()\n",
    "fibonacci(35)\n",
    "end_time = time.perf_counter()\n",
    "run_time = end_time - start_time\n",
    "print('Total Runtime is: {} sec.'.format(str(run_time)))"
   ]
  },
  {
   "cell_type": "code",
   "execution_count": 36,
   "metadata": {},
   "outputs": [
    {
     "name": "stdout",
     "output_type": "stream",
     "text": [
      "Call 1 of 'fibonacci'\n",
      "Call 2 of 'fibonacci'\n",
      "Call 3 of 'fibonacci'\n",
      "Call 4 of 'fibonacci'\n",
      "Call 5 of 'fibonacci'\n",
      "Call 6 of 'fibonacci'\n",
      "Call 7 of 'fibonacci'\n",
      "Call 8 of 'fibonacci'\n",
      "Call 9 of 'fibonacci'\n",
      "Call 10 of 'fibonacci'\n",
      "Call 11 of 'fibonacci'\n",
      "Call 12 of 'fibonacci'\n",
      "Call 13 of 'fibonacci'\n",
      "Call 14 of 'fibonacci'\n",
      "Call 15 of 'fibonacci'\n"
     ]
    },
    {
     "data": {
      "text/plain": [
       "5"
      ]
     },
     "execution_count": 36,
     "metadata": {},
     "output_type": "execute_result"
    }
   ],
   "source": [
    "@count_calls\n",
    "def fibonacci(num):\n",
    "    if num < 2:\n",
    "        return num\n",
    "    return fibonacci(num - 1) + fibonacci(num - 2)\n",
    "fibonacci(5)"
   ]
  },
  {
   "cell_type": "code",
   "execution_count": 37,
   "metadata": {},
   "outputs": [
    {
     "name": "stdout",
     "output_type": "stream",
     "text": [
      "Call 1 of 'fibonacci'\n",
      "Call 2 of 'fibonacci'\n",
      "Call 3 of 'fibonacci'\n",
      "Call 4 of 'fibonacci'\n",
      "Call 5 of 'fibonacci'\n",
      "Call 6 of 'fibonacci'\n"
     ]
    },
    {
     "data": {
      "text/plain": [
       "5"
      ]
     },
     "execution_count": 37,
     "metadata": {},
     "output_type": "execute_result"
    }
   ],
   "source": [
    "@cache\n",
    "@count_calls\n",
    "def fibonacci(num):\n",
    "    if num < 2:\n",
    "        return num\n",
    "    return fibonacci(num - 1) + fibonacci(num - 2)\n",
    "fibonacci(5)"
   ]
  },
  {
   "cell_type": "markdown",
   "metadata": {},
   "source": [
    "Example 1: Longest Common Subsequence"
   ]
  },
  {
   "cell_type": "markdown",
   "metadata": {},
   "source": [
    "Definition 11.1 The Longest Common Subsequence (LCS) problem is as follows. We are\n",
    "given two strings: string S of length n, and string T of length m. Our goal is to produce their longest common subsequence: the longest sequence of characters that appear left-to-right (but not necessarily in a contiguous block) in both strings\n",
    "\n",
    "LCS Problem Statement: Given two sequences, find the length of longest subsequence present in both of them. A subsequence is a sequence that appears in the same relative order, but not necessarily contiguous. For example, “abc”, “abg”, “bdf”, “aeg”, ‘”acefg”, .. etc are subsequences of “abcdefg”. So a string of length n has 2^n different possible subsequences.\n",
    "\n",
    "It is a classic computer science problem, the basis of diff (a file comparison program that outputs the differences between two files), and has applications in bioinformatics.\n",
    "\n",
    "Examples:\n",
    "\n",
    "LCS for input Sequences “ABCDGH” and “AEDFHR” is “ADH” of length 3.\n",
    "\n",
    "LCS for input Sequences “AGGTAB” and “GXTXAYB” is “GTAB” of length 4."
   ]
  },
  {
   "cell_type": "code",
   "execution_count": 58,
   "metadata": {},
   "outputs": [
    {
     "name": "stdout",
     "output_type": "stream",
     "text": [
      "Length of LCS is:  4\n"
     ]
    }
   ],
   "source": [
    "# pure recursive\n",
    "def lcs(X, Y, m, n):   \n",
    "    if m == 0 or n == 0: \n",
    "        return 0; \n",
    "    elif X[m-1] == Y[n-1]: \n",
    "        return 1 + lcs(X, Y, m-1, n-1); \n",
    "    else: \n",
    "        return max(lcs(X, Y, m, n-1), lcs(X, Y, m-1, n)); \n",
    "  \n",
    "# Driver program to test the above function \n",
    "X = \"AGGTAB\"\n",
    "Y = \"GXTXAYB\"\n",
    "print(\"Length of LCS is: \", lcs(X , Y, len(X), len(Y)))"
   ]
  },
  {
   "cell_type": "markdown",
   "metadata": {},
   "source": [
    "Time complexity of the above naive recursive approach is O(2^n) in worst case and worst case happens when all characters of X and Y mismatch i.e., length of LCS is 0."
   ]
  },
  {
   "cell_type": "markdown",
   "metadata": {},
   "source": [
    "                 lcs(\"AXYT\", \"AYZX\")\n",
    "                       /                 \n",
    "         lcs(\"AXY\", \"AYZX\")                        lcs(\"AXYT\", \"AYZ\")\n",
    "         /                                         /               \n",
    "     lcs(\"AX\", \"AYZX\") lcs(\"AXY\", \"AYZ\")        lcs(\"AXY\", \"AYZ\") lcs(\"AXYT\", \"AY\")"
   ]
  },
  {
   "cell_type": "code",
   "execution_count": 56,
   "metadata": {},
   "outputs": [
    {
     "name": "stdout",
     "output_type": "stream",
     "text": [
      "Length of LCS is:  4\n"
     ]
    }
   ],
   "source": [
    "# method 1:\n",
    "def lcs(X , Y): \n",
    "    # find the length of the strings \n",
    "    m = len(X) \n",
    "    n = len(Y) \n",
    "  \n",
    "    # declaring the array for storing the dp values \n",
    "    L = [[None]*(n+1) for i in range(m+1)] \n",
    "  \n",
    "    \"\"\"Following steps build L[m+1][n+1] in bottom up fashion \n",
    "    Note: L[i][j] contains length of LCS of X[0..i-1] \n",
    "    and Y[0..j-1]\"\"\"\n",
    "    for i in range(m+1): \n",
    "        for j in range(n+1): \n",
    "            if i == 0 or j == 0 : \n",
    "                L[i][j] = 0\n",
    "            elif X[i-1] == Y[j-1]: \n",
    "                L[i][j] = L[i-1][j-1]+1\n",
    "            else: \n",
    "                L[i][j] = max(L[i-1][j] , L[i][j-1]) \n",
    "  \n",
    "    # L[m][n] contains the length of LCS of X[0..n-1] & Y[0..m-1] \n",
    "    return L[m][n]\n",
    "\n",
    "X = \"AGGTAB\"\n",
    "Y = \"GXTXAYB\"\n",
    "print(\"Length of LCS is: \", lcs(X, Y))"
   ]
  },
  {
   "cell_type": "code",
   "execution_count": 57,
   "metadata": {},
   "outputs": [
    {
     "name": "stdout",
     "output_type": "stream",
     "text": [
      "Call 1 of 'lcs'\n",
      "Call 2 of 'lcs'\n",
      "Call 3 of 'lcs'\n",
      "Call 4 of 'lcs'\n",
      "Call 5 of 'lcs'\n",
      "Call 6 of 'lcs'\n",
      "Call 7 of 'lcs'\n",
      "Call 8 of 'lcs'\n",
      "Call 9 of 'lcs'\n",
      "Call 10 of 'lcs'\n",
      "Call 11 of 'lcs'\n",
      "Call 12 of 'lcs'\n",
      "Call 13 of 'lcs'\n",
      "Call 14 of 'lcs'\n",
      "Call 15 of 'lcs'\n",
      "Call 16 of 'lcs'\n",
      "Call 17 of 'lcs'\n",
      "Call 18 of 'lcs'\n",
      "Call 19 of 'lcs'\n",
      "Call 20 of 'lcs'\n",
      "Call 21 of 'lcs'\n",
      "Call 22 of 'lcs'\n",
      "Call 23 of 'lcs'\n",
      "Call 24 of 'lcs'\n",
      "Call 25 of 'lcs'\n",
      "Call 26 of 'lcs'\n",
      "Call 27 of 'lcs'\n",
      "Call 28 of 'lcs'\n",
      "Call 29 of 'lcs'\n",
      "Call 30 of 'lcs'\n",
      "Call 31 of 'lcs'\n",
      "Call 32 of 'lcs'\n",
      "Length of LCS is:  4\n"
     ]
    }
   ],
   "source": [
    "# method 2:\n",
    "@cache\n",
    "@count_calls\n",
    "def lcs(X, Y, m, n):   \n",
    "    if m == 0 or n == 0: \n",
    "        return 0; \n",
    "    elif X[m-1] == Y[n-1]: \n",
    "        return 1 + lcs(X, Y, m-1, n-1); \n",
    "    else: \n",
    "        return max(lcs(X, Y, m, n-1), lcs(X, Y, m-1, n)); \n",
    "  \n",
    "X = \"AGGTAB\"\n",
    "Y = \"GXTXAYB\"\n",
    "print(\"Length of LCS is: \", lcs(X , Y, len(X), len(Y)))"
   ]
  },
  {
   "cell_type": "markdown",
   "metadata": {},
   "source": [
    "221. Maximal Square\n",
    "\n",
    "Given a 2D binary matrix filled with 0's and 1's, find the largest square containing only 1's and return its area.\n",
    "\n",
    "Example:\n",
    "\n",
    "Input: \n",
    "\n",
    "1 0 1 0 0\n",
    "\n",
    "1 0 1 1 1\n",
    "\n",
    "1 1 1 1 1\n",
    "\n",
    "1 0 0 1 0\n",
    "\n",
    "Output: 4\n",
    "\n",
    "link:https://www.youtube.com/watch?v=vkFUB--OYy0"
   ]
  },
  {
   "cell_type": "code",
   "execution_count": null,
   "metadata": {},
   "outputs": [],
   "source": []
  }
 ],
 "metadata": {
  "kernelspec": {
   "display_name": "Python 3",
   "language": "python",
   "name": "python3"
  },
  "language_info": {
   "codemirror_mode": {
    "name": "ipython",
    "version": 3
   },
   "file_extension": ".py",
   "mimetype": "text/x-python",
   "name": "python",
   "nbconvert_exporter": "python",
   "pygments_lexer": "ipython3",
   "version": "3.6.6"
  }
 },
 "nbformat": 4,
 "nbformat_minor": 2
}
