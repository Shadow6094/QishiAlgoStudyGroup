{
 "cells": [
  {
   "cell_type": "markdown",
   "metadata": {},
   "source": [
    "LeetCode 329. Longest Increasing Path in a Matrix\n",
    "\n",
    "Given an integer matrix, find the length of the longest increasing path.\n",
    "\n",
    "From each cell, you can either move to four directions: left, right, up or down. You may NOT move diagonally or move outside of the boundary (i.e. wrap-around is not allowed).\n",
    "\n",
    "Example 1:\n",
    "\n",
    "nums = [\n",
    "  [9,9,4],\n",
    "  [6,6,8],\n",
    "  [2,1,1]\n",
    "]\n",
    "Return 4\n",
    "The longest increasing path is [1, 2, 6, 9]."
   ]
  },
  {
   "cell_type": "code",
   "execution_count": 1,
   "metadata": {},
   "outputs": [],
   "source": [
    "def longestIncreasingPath(matrix):\n",
    "    \"\"\"\n",
    "    :type matrix: List[List[int]]\n",
    "    :rtype: int\n",
    "    \"\"\"\n",
    "    h = len(matrix)\n",
    "    if h == 0: return 0\n",
    "    w = len(matrix[0])\n",
    "    dp = [[0]*w for x in range(h)]\n",
    "    \n",
    "    def dfs(x, y):\n",
    "        for dx, dy in zip([1, 0, -1, 0], [0, 1, 0, -1]):\n",
    "            nx, ny = x + dx, y + dy\n",
    "            if 0 <= nx < h and 0 <= ny < w and matrix[nx][ny] > matrix[x][y]:\n",
    "                if dp[nx][ny]==0:\n",
    "                    dp[nx][ny] = dfs(nx,ny)\n",
    "                dp[x][y] = max(dp[x][y], dp[nx][ny]+1)\n",
    "        dp[x][y] = max(dp[x][y], 1)\n",
    "        return dp[x][y]\n",
    "    \n",
    "    for x in range(h):\n",
    "        for y in range(w):\n",
    "            if not dp[x][y]:\n",
    "                dp[x][y] = dfs(x, y)\n",
    "    return max([max(x) for x in dp])    "
   ]
  },
  {
   "cell_type": "code",
   "execution_count": 4,
   "metadata": {},
   "outputs": [
    {
     "name": "stdout",
     "output_type": "stream",
     "text": [
      "4\n",
      "5\n"
     ]
    }
   ],
   "source": [
    "nums1 = [\n",
    "  [3,4,5],\n",
    "  [3,2,6],\n",
    "  [2,2,1]\n",
    "]\n",
    "nums2 = [\n",
    "  [9,9,4],\n",
    "  [6,6,8],\n",
    "  [3,2,1]\n",
    "]\n",
    "print(longestIncreasingPath(nums1))\n",
    "print(longestIncreasingPath(nums2))"
   ]
  }
 ],
 "metadata": {
  "kernelspec": {
   "display_name": "Python 3",
   "language": "python",
   "name": "python3"
  },
  "language_info": {
   "codemirror_mode": {
    "name": "ipython",
    "version": 3
   },
   "file_extension": ".py",
   "mimetype": "text/x-python",
   "name": "python",
   "nbconvert_exporter": "python",
   "pygments_lexer": "ipython3",
   "version": "3.6.6"
  }
 },
 "nbformat": 4,
 "nbformat_minor": 2
}
