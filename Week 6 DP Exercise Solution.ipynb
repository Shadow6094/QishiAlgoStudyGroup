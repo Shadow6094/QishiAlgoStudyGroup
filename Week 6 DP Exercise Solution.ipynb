{
 "cells": [
  {
   "cell_type": "code",
   "execution_count": 25,
   "metadata": {},
   "outputs": [],
   "source": [
    "import sys"
   ]
  },
  {
   "cell_type": "markdown",
   "metadata": {},
   "source": [
    "### 139. Word Break (Medium)"
   ]
  },
  {
   "cell_type": "code",
   "execution_count": 5,
   "metadata": {},
   "outputs": [
    {
     "name": "stdout",
     "output_type": "stream",
     "text": [
      "True\n",
      "True\n",
      "False\n"
     ]
    }
   ],
   "source": [
    "def wordBreak(s, wb_set):\n",
    "    dp = [False for i in range(len(s)+1)]\n",
    "    dp[0] = True\n",
    "    for i in range(1, len(s)+1):\n",
    "        for k in range(i):\n",
    "            if dp[k] and s[k:i] in wb_set:\n",
    "                dp[i] = True\n",
    "    return dp[len(s)]\n",
    "\n",
    "wb_set = {\"mobile\",\"samsung\",\"sam\",\"sung\",\"man\",\"mango\",\"icecream\",\\\n",
    "          \"and\",\"go\",\"i\",\"like\",\"ice\",\"cream\"}\n",
    "\n",
    "print(wordBreak(\"ilikelikeimangoiii\", wb_set))\n",
    "print(wordBreak(\"ilikesamsung\", wb_set))\n",
    "print(wordBreak(\"samsungandmangok\", wb_set))"
   ]
  },
  {
   "cell_type": "markdown",
   "metadata": {},
   "source": [
    "### 300. Longest Increasing Subsequence (Medium)"
   ]
  },
  {
   "cell_type": "code",
   "execution_count": 7,
   "metadata": {},
   "outputs": [
    {
     "name": "stdout",
     "output_type": "stream",
     "text": [
      "4\n"
     ]
    }
   ],
   "source": [
    "# O(N^2) Solution\n",
    "def lengthOfLIS(nums):\n",
    "        \"\"\"\n",
    "        :type nums: List[int]\n",
    "        :rtype: int\n",
    "        \"\"\"\n",
    "        size = len(nums)\n",
    "        dp = [1] * size\n",
    "        for x in range(size):\n",
    "            for y in range(x):\n",
    "                if nums[x] > nums[y]:\n",
    "                    # find the number of element\n",
    "                    # smaller than x\n",
    "                    dp[x] = max(dp[x], dp[y] + 1)\n",
    "        return max(dp) if dp else 0\n",
    "print(lengthOfLIS([10, 9, 2, 5, 3, 7, 101, 18]))"
   ]
  },
  {
   "cell_type": "markdown",
   "metadata": {},
   "source": [
    "思路是，我们先建立一个数组 ends，把首元素放进去，然后比较之后的元素，\n",
    "\n",
    "如果遍历到的新元素比ends数组中的首元素小的话，替换首元素为此新元素，\n",
    "\n",
    "如果遍历到的新元素比ends数组中的末尾元素还大的话，将此新元素添加到ends数组末尾(注意不覆盖原末尾元素)。\n",
    "\n",
    "如果遍历到的新元素比ends数组首元素大，比尾元素小时，此时用二分查找法找到第一个不小于此新元素的位置，覆盖掉位置的原来的数字\n",
    "\n",
    "作者：Inside_Zhang \n",
    "来源：CSDN \n",
    "原文：https://blog.csdn.net/lanchunhui/article/details/51611970\n",
    "\n",
    "Question: 有没有其他解题思路？"
   ]
  },
  {
   "cell_type": "code",
   "execution_count": 11,
   "metadata": {},
   "outputs": [
    {
     "name": "stdout",
     "output_type": "stream",
     "text": [
      "[2, 3, 7, 18]\n",
      "4\n",
      "[2, 3, 5, 7]\n",
      "4\n"
     ]
    }
   ],
   "source": [
    "# O(nLogn)\n",
    "def lengthOfLIS(nums):\n",
    "    n = len(nums)\n",
    "    if n == 0:\n",
    "        return 0\n",
    "    res = [nums[0]]\n",
    "    for i in range(1, n):\n",
    "        if nums[i] < res[0]:\n",
    "            res[0] = nums[i]\n",
    "        elif nums[i] > res[-1]:\n",
    "            res.append(nums[i])\n",
    "        else:\n",
    "            lo, hi = 0, len(res)\n",
    "            while lo < hi:\n",
    "                mi = (lo + hi)//2\n",
    "                if nums[i] > res[mi]: \n",
    "                    lo = mi + 1\n",
    "                else:\n",
    "                    hi = mi\n",
    "            res[hi] = nums[i]\n",
    "    print(res)\n",
    "    return len(res)\n",
    "print(lengthOfLIS([10, 9, 2, 5, 3, 7, 101, 18]))\n",
    "print(lengthOfLIS([4,2,4,5,3,7]))"
   ]
  },
  {
   "cell_type": "markdown",
   "metadata": {},
   "source": [
    "### 72. Edit Distance (Hard)\n",
    "\n",
    "思路讲解：https://www.youtube.com/watch?v=Q4i_rqON2-E"
   ]
  },
  {
   "cell_type": "code",
   "execution_count": 16,
   "metadata": {},
   "outputs": [
    {
     "name": "stdout",
     "output_type": "stream",
     "text": [
      "3\n"
     ]
    }
   ],
   "source": [
    "def minDistance(word1, word2):\n",
    "    l1 = len(word1)\n",
    "    l2 = len(word2)\n",
    "    \n",
    "    dp = [[0]*(l2+1) for k in range(l1+1)]\n",
    "\n",
    "    for i in range(l1+1):\n",
    "        dp[i][0] = i\n",
    "    for j in range(l2+1):\n",
    "        dp[0][j] = j\n",
    "    for i in range(1, l1+1):\n",
    "        for j in range(1, l2+1):\n",
    "            t = 0 if word1[i - 1] == word2[j - 1] else 1\n",
    "            dp[i][j] = min(dp[i - 1][j - 1] + t, \n",
    "                          min(dp[i][j - 1], dp[i - 1][j]) + 1)\n",
    "\n",
    "    return dp[l1][l2]\n",
    "str1 = \"sunday\"\n",
    "str2 = \"saturday\"\n",
    "print(minDistance(str1, str2))"
   ]
  },
  {
   "cell_type": "markdown",
   "metadata": {},
   "source": [
    "### 416. Partition Equal Subset Sum (Medium)"
   ]
  },
  {
   "cell_type": "code",
   "execution_count": 24,
   "metadata": {},
   "outputs": [
    {
     "name": "stdout",
     "output_type": "stream",
     "text": [
      "True\n",
      "False\n"
     ]
    }
   ],
   "source": [
    "def canPartition(nums):\n",
    "    total_sum = sum(nums)\n",
    "    \n",
    "    if (total_sum%2 != 0): \n",
    "        return False\n",
    "    dp = [0] * (total_sum+1)\n",
    "    dp[0] = 1\n",
    "    \n",
    "    for n in nums:\n",
    "        for i in range(total_sum,-1,-1):\n",
    "            if dp[i]:\n",
    "                dp[i + n] = 1\n",
    "        if (dp[total_sum // 2]): \n",
    "            return True\n",
    "    return False\n",
    "\n",
    "print(canPartition([1, 5, 11, 5]))\n",
    "print(canPartition([1, 2, 3, 5]))"
   ]
  },
  {
   "cell_type": "markdown",
   "metadata": {},
   "source": [
    "### 322. Coin Change (Medium)"
   ]
  },
  {
   "cell_type": "code",
   "execution_count": 27,
   "metadata": {},
   "outputs": [
    {
     "name": "stdout",
     "output_type": "stream",
     "text": [
      "3\n",
      "-1\n"
     ]
    }
   ],
   "source": [
    "def coinChange(coins, amount):\n",
    "    # dp[i] = min coins to make up to amount i\n",
    "    dp = [sys.maxsize]*(amount+1)\n",
    "    dp[0] = 0\n",
    "    for c in coins:\n",
    "        for i in range(c, amount+1):\n",
    "            if dp[i-c]!=sys.maxsize:\n",
    "                dp[i] = min(dp[i], dp[i - c] + 1)\n",
    "    if dp[amount] == sys.maxsize:\n",
    "        return -1\n",
    "    else:\n",
    "        return dp[amount]\n",
    "print(coinChange([1, 2, 5], 11))\n",
    "print(coinChange([2], 3))"
   ]
  }
 ],
 "metadata": {
  "kernelspec": {
   "display_name": "Python 3",
   "language": "python",
   "name": "python3"
  },
  "language_info": {
   "codemirror_mode": {
    "name": "ipython",
    "version": 3
   },
   "file_extension": ".py",
   "mimetype": "text/x-python",
   "name": "python",
   "nbconvert_exporter": "python",
   "pygments_lexer": "ipython3",
   "version": "3.6.6"
  }
 },
 "nbformat": 4,
 "nbformat_minor": 2
}
