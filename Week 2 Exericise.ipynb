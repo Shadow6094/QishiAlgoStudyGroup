{
 "cells": [
  {
   "cell_type": "code",
   "execution_count": 1,
   "metadata": {},
   "outputs": [],
   "source": [
    "from collections import deque\n",
    "import copy"
   ]
  },
  {
   "cell_type": "code",
   "execution_count": 2,
   "metadata": {},
   "outputs": [],
   "source": [
    "def floodFill(image, sr, sc, newColor):\n",
    "    \"\"\"\n",
    "    :type image: List[List[int]]\n",
    "    :type sr: int\n",
    "    :type sc: int\n",
    "    :type newColor: int\n",
    "    :rtype: List[List[int]]\n",
    "    \"\"\"\n",
    "    if not image:\n",
    "        return [[]]\n",
    "    res = copy.deepcopy(image)\n",
    "    visit = [[False for x in range(len(image[0]))] for y in range(len(image))]\n",
    "    queue = []\n",
    "    dirs = [-1,0,1,0,-1]\n",
    "    res[sr][sc] = newColor\n",
    "    color = image[sr][sc]\n",
    "    queue.append((sr, sc))\n",
    "    while queue:\n",
    "        t = queue.pop(0)\n",
    "        visit[t[0]][t[1]]=True\n",
    "        for i in range(len(dirs)-1):\n",
    "            a = t[0]+dirs[i]\n",
    "            b = t[1]+dirs[i+1]\n",
    "            if a>=0 and a<len(image[0]) and b>=0 \\\n",
    "            and b<len(image) and not visit[a][b] \\\n",
    "            and image[a][b]==color:\n",
    "                queue.append((a,b))\n",
    "                res[a][b] = newColor\n",
    "    return res"
   ]
  },
  {
   "cell_type": "code",
   "execution_count": 3,
   "metadata": {},
   "outputs": [
    {
     "name": "stdout",
     "output_type": "stream",
     "text": [
      "[[2, 2, 2], [2, 2, 0], [2, 0, 1]]\n"
     ]
    }
   ],
   "source": [
    "image = [[1,1,1],[1,1,0],[1,0,1]]\n",
    "sr = 1\n",
    "sc = 1\n",
    "newColor = 2\n",
    "print(floodFill(image, sr, sc, newColor))"
   ]
  },
  {
   "cell_type": "code",
   "execution_count": 8,
   "metadata": {},
   "outputs": [],
   "source": [
    "class TreeNode:\n",
    "    def __init__(self, x):\n",
    "        self.val = x\n",
    "        self.left = None\n",
    "        self.right = None\n",
    "\n",
    "def levelOrder(root):\n",
    "    res = []\n",
    "    if not root:\n",
    "        return res\n",
    "    tmp = deque()\n",
    "    tmp.append(root)\n",
    "    while tmp:\n",
    "        t_vec = []\n",
    "        for i in range(len(tmp)):\n",
    "            tn = tmp[0]\n",
    "            tmp.popleft()\n",
    "            t_vec.append(tn.val)\n",
    "            if tn.left is not None:\n",
    "                tmp.append(tn.left)\n",
    "            if tn.right is not None:\n",
    "                tmp.append(tn.right)\n",
    "        res.append(t_vec)\n",
    "    return res"
   ]
  },
  {
   "cell_type": "code",
   "execution_count": 9,
   "metadata": {},
   "outputs": [
    {
     "name": "stdout",
     "output_type": "stream",
     "text": [
      "[[3], [9, 20], [15, 7]]\n"
     ]
    }
   ],
   "source": [
    "r1 = TreeNode(3)\n",
    "r2 = TreeNode(9)\n",
    "r3 = TreeNode(20)\n",
    "r4 = TreeNode(15)\n",
    "r5 = TreeNode(7)\n",
    "r1.left = r2\n",
    "r1.right = r3\n",
    "r3.left = r4\n",
    "r3.right = r5\n",
    "print(levelOrder(r1))"
   ]
  },
  {
   "cell_type": "code",
   "execution_count": 18,
   "metadata": {},
   "outputs": [
    {
     "name": "stdout",
     "output_type": "stream",
     "text": [
      "2\n",
      "1\n"
     ]
    }
   ],
   "source": [
    "def findCircleNum(M):\n",
    "    dirs=[-1,0,1,0,-1]\n",
    "    queue = []\n",
    "    visit=[[False for x in range(len(M[0]))] for y in range(len(M))]\n",
    "    res=0\n",
    "    for i in range(len(M)):\n",
    "        for j in range(len(M[0])):\n",
    "            if not visit[i][j] and M[i][j]==1:\n",
    "                queue.append((i,j))\n",
    "                res+=1\n",
    "            while len(queue)>0:\n",
    "                t = queue.pop(0)\n",
    "                visit[t[0]][t[1]]=True\n",
    "                for k in range(len(dirs)-1):\n",
    "                    a = t[0]+dirs[k]\n",
    "                    b = t[1]+dirs[k+1]\n",
    "                    if a>=0 and b>=0 and a<len(M) and b<len(M[0]) and not visit[a][b] and M[a][b]==1:\n",
    "                        queue.append((a,b))\n",
    "    return res\n",
    "\n",
    "test = [[1,1,0],[1,1,0],[0,0,1]]\n",
    "test1 =[[1,1,0],[1,1,1],[0,1,1]]\n",
    "\n",
    "print(findCircleNum(test))\n",
    "print(findCircleNum(test1))"
   ]
  },
  {
   "cell_type": "markdown",
   "metadata": {},
   "source": [
    "#### 847. Shortest Path Visiting All Nodes"
   ]
  },
  {
   "cell_type": "markdown",
   "metadata": {},
   "source": [
    "An undirected, connected graph of N nodes (labeled 0, 1, 2, ..., N-1) is given as graph.\n",
    "\n",
    "graph.length = N, and j != i is in the list graph[i] exactly once, if and only if nodes i and j are connected.\n",
    "\n",
    "Return the length of the shortest path that visits every node. You may start and stop at any node, you may revisit nodes multiple times, and you may reuse edges."
   ]
  },
  {
   "cell_type": "code",
   "execution_count": null,
   "metadata": {},
   "outputs": [],
   "source": [
    "\"\"\"\n",
    "represent unique state (curr_node, visited_node)\n",
    "visited_node use int when #node is small instead of hash set\n",
    "\"\"\""
   ]
  },
  {
   "cell_type": "code",
   "execution_count": 75,
   "metadata": {},
   "outputs": [],
   "source": [
    "def shortestPathLength(graph):\n",
    "    \"\"\"\n",
    "    :type graph: List[List[int]]\n",
    "    :rtype: int\n",
    "    \"\"\"\n",
    "    n = len(graph)\n",
    "    if len(graph)==1 and len(graph[0])==0:\n",
    "        return 0\n",
    "    target = (1<<n)-1\n",
    "    queue = []\n",
    "    visited = [[False for x in range(1<<n)] for y in range(n)]\n",
    "    for i in range(n):\n",
    "        queue.append((i,1<<i))\n",
    "    steps = 0\n",
    "    while queue:\n",
    "        s = len(queue)\n",
    "        while s>0:\n",
    "            t = queue.pop(0)\n",
    "            node = t[0]\n",
    "            state = t[1]\n",
    "            #print(\"node{0}:state{1}\".format(str(node), str(bin(state))))\n",
    "            if state==target: return steps-1\n",
    "            if visited[node][state]:\n",
    "                s-=1\n",
    "            visited[node][state]=True\n",
    "            for nei_node in graph[node]:\n",
    "                queue.append((nei_node ,state|1<<nei_node))\n",
    "            s-=1\n",
    "        steps+=1\n",
    "    return -1"
   ]
  },
  {
   "cell_type": "code",
   "execution_count": 61,
   "metadata": {},
   "outputs": [
    {
     "data": {
      "text/plain": [
       "4"
      ]
     },
     "execution_count": 61,
     "metadata": {},
     "output_type": "execute_result"
    }
   ],
   "source": [
    "shortestPathLength([[1,2,3],[0],[0],[0]])"
   ]
  },
  {
   "cell_type": "code",
   "execution_count": 62,
   "metadata": {},
   "outputs": [
    {
     "data": {
      "text/plain": [
       "4"
      ]
     },
     "execution_count": 62,
     "metadata": {},
     "output_type": "execute_result"
    }
   ],
   "source": [
    "shortestPathLength([[1],[0,2,4],[1,3,4],[2],[1,2]])"
   ]
  },
  {
   "cell_type": "code",
   "execution_count": 74,
   "metadata": {},
   "outputs": [
    {
     "data": {
      "text/plain": [
       "0"
      ]
     },
     "execution_count": 74,
     "metadata": {},
     "output_type": "execute_result"
    }
   ],
   "source": [
    "shortestPathLength([[]])"
   ]
  },
  {
   "cell_type": "code",
   "execution_count": null,
   "metadata": {},
   "outputs": [],
   "source": []
  }
 ],
 "metadata": {
  "kernelspec": {
   "display_name": "Python 3",
   "language": "python",
   "name": "python3"
  },
  "language_info": {
   "codemirror_mode": {
    "name": "ipython",
    "version": 3
   },
   "file_extension": ".py",
   "mimetype": "text/x-python",
   "name": "python",
   "nbconvert_exporter": "python",
   "pygments_lexer": "ipython3",
   "version": "3.6.6"
  }
 },
 "nbformat": 4,
 "nbformat_minor": 2
}
